{
 "cells": [
  {
   "cell_type": "code",
   "execution_count": 2,
   "id": "48cbdfb9",
   "metadata": {},
   "outputs": [],
   "source": [
    "import pandas as pd\n",
    "import seaborn as sns"
   ]
  },
  {
   "cell_type": "code",
   "execution_count": 3,
   "id": "f9ddc350",
   "metadata": {},
   "outputs": [],
   "source": [
    "df=pd.read_csv('oxygen_emission_data.csv',encoding= 'unicode_escape', sep=',')"
   ]
  },
  {
   "cell_type": "code",
   "execution_count": 4,
   "id": "870cbf67",
   "metadata": {
    "scrolled": true
   },
   "outputs": [
    {
     "data": {
      "text/html": [
       "<div>\n",
       "<style scoped>\n",
       "    .dataframe tbody tr th:only-of-type {\n",
       "        vertical-align: middle;\n",
       "    }\n",
       "\n",
       "    .dataframe tbody tr th {\n",
       "        vertical-align: top;\n",
       "    }\n",
       "\n",
       "    .dataframe thead th {\n",
       "        text-align: right;\n",
       "    }\n",
       "</style>\n",
       "<table border=\"1\" class=\"dataframe\">\n",
       "  <thead>\n",
       "    <tr style=\"text-align: right;\">\n",
       "      <th></th>\n",
       "      <th>Plant Species</th>\n",
       "      <th>Oxygen Emission</th>\n",
       "      <th>Light Intensity</th>\n",
       "      <th>CO2 Concentration</th>\n",
       "      <th>Temperature</th>\n",
       "    </tr>\n",
       "  </thead>\n",
       "  <tbody>\n",
       "    <tr>\n",
       "      <th>0</th>\n",
       "      <td>Tulip</td>\n",
       "      <td>62</td>\n",
       "      <td>27</td>\n",
       "      <td>196</td>\n",
       "      <td>24.0</td>\n",
       "    </tr>\n",
       "    <tr>\n",
       "      <th>1</th>\n",
       "      <td>Cactus</td>\n",
       "      <td>18</td>\n",
       "      <td>10</td>\n",
       "      <td>132</td>\n",
       "      <td>31.0</td>\n",
       "    </tr>\n",
       "    <tr>\n",
       "      <th>2</th>\n",
       "      <td>Lavender</td>\n",
       "      <td>50</td>\n",
       "      <td>30</td>\n",
       "      <td>171</td>\n",
       "      <td>19.0</td>\n",
       "    </tr>\n",
       "    <tr>\n",
       "      <th>3</th>\n",
       "      <td>Bamboo</td>\n",
       "      <td>72</td>\n",
       "      <td>45</td>\n",
       "      <td>198</td>\n",
       "      <td>29.0</td>\n",
       "    </tr>\n",
       "    <tr>\n",
       "      <th>4</th>\n",
       "      <td>Fern</td>\n",
       "      <td>36</td>\n",
       "      <td>23</td>\n",
       "      <td>137</td>\n",
       "      <td>22.0</td>\n",
       "    </tr>\n",
       "  </tbody>\n",
       "</table>\n",
       "</div>"
      ],
      "text/plain": [
       "  Plant Species  Oxygen Emission  Light Intensity  CO2 Concentration  \\\n",
       "0         Tulip               62               27                196   \n",
       "1        Cactus               18               10                132   \n",
       "2      Lavender               50               30                171   \n",
       "3        Bamboo               72               45                198   \n",
       "4          Fern               36               23                137   \n",
       "\n",
       "   Temperature  \n",
       "0         24.0  \n",
       "1         31.0  \n",
       "2         19.0  \n",
       "3         29.0  \n",
       "4         22.0  "
      ]
     },
     "execution_count": 4,
     "metadata": {},
     "output_type": "execute_result"
    }
   ],
   "source": [
    "df.head()"
   ]
  },
  {
   "cell_type": "code",
   "execution_count": 5,
   "id": "cb59c1cb",
   "metadata": {},
   "outputs": [
    {
     "data": {
      "text/plain": [
       "Aloe Vera         3\n",
       "Palm Tree         2\n",
       "Lilac             2\n",
       "Mimosa            2\n",
       "Fuchsia           2\n",
       "                 ..\n",
       "Lobelia           1\n",
       "African Violet    1\n",
       "Carnation         1\n",
       "Iris              1\n",
       "Rhododendron      1\n",
       "Name: Plant Species, Length: 146, dtype: int64"
      ]
     },
     "execution_count": 5,
     "metadata": {},
     "output_type": "execute_result"
    }
   ],
   "source": [
    "df['Plant Species'].value_counts()"
   ]
  },
  {
   "cell_type": "code",
   "execution_count": 6,
   "id": "2ccb555c",
   "metadata": {},
   "outputs": [
    {
     "data": {
      "text/plain": [
       "Plant Species        0\n",
       "Oxygen Emission      0\n",
       "Light Intensity      0\n",
       "CO2 Concentration    0\n",
       "Temperature          1\n",
       "dtype: int64"
      ]
     },
     "execution_count": 6,
     "metadata": {},
     "output_type": "execute_result"
    }
   ],
   "source": [
    "df.isna().sum()"
   ]
  },
  {
   "cell_type": "code",
   "execution_count": 7,
   "id": "b6574de6",
   "metadata": {},
   "outputs": [],
   "source": [
    "df=df.dropna()"
   ]
  },
  {
   "cell_type": "code",
   "execution_count": 8,
   "id": "6379ec32",
   "metadata": {},
   "outputs": [
    {
     "data": {
      "text/plain": [
       "Plant Species        0\n",
       "Oxygen Emission      0\n",
       "Light Intensity      0\n",
       "CO2 Concentration    0\n",
       "Temperature          0\n",
       "dtype: int64"
      ]
     },
     "execution_count": 8,
     "metadata": {},
     "output_type": "execute_result"
    }
   ],
   "source": [
    "df.isna().sum()"
   ]
  },
  {
   "cell_type": "code",
   "execution_count": 9,
   "id": "7dac0bef",
   "metadata": {},
   "outputs": [
    {
     "name": "stderr",
     "output_type": "stream",
     "text": [
      "/var/folders/mn/r97rfrgx549chn4x7dwcz_q80000gn/T/ipykernel_62940/1999486822.py:1: FutureWarning: The default value of numeric_only in DataFrame.corr is deprecated. In a future version, it will default to False. Select only valid columns or specify the value of numeric_only to silence this warning.\n",
      "  corr=df.corr()\n"
     ]
    },
    {
     "data": {
      "text/plain": [
       "<AxesSubplot: >"
      ]
     },
     "execution_count": 9,
     "metadata": {},
     "output_type": "execute_result"
    },
    {
     "data": {
      "image/png": "[encoded data removed]",
      "text/plain": [
       "<Figure size 640x480 with 2 Axes>"
      ]
     },
     "metadata": {},
     "output_type": "display_data"
    }
   ],
   "source": [
    "corr=df.corr()\n",
    "sns.heatmap(corr,annot=True,fmt='.1f')"
   ]
  },
  {
   "cell_type": "code",
   "execution_count": 10,
   "id": "6f481c9d",
   "metadata": {},
   "outputs": [],
   "source": [
    "from sklearn.preprocessing import LabelEncoder\n",
    "import numpy\n",
    "label_encoder=LabelEncoder()\n",
    "df['Plant Species']=label_encoder.fit_transform(df['Plant Species'])"
   ]
  },
  {
   "cell_type": "code",
   "execution_count": 11,
   "id": "cd1037e8",
   "metadata": {},
   "outputs": [
    {
     "name": "stdout",
     "output_type": "stream",
     "text": [
      "{'African Daisy': 0, 'African Violet': 1, 'Aloe Vera': 2, 'Amaryllis': 3, 'Amla': 4, 'Anthurium': 5, 'Areca Palm': 6, 'Ashwagandha': 7, 'Aster': 8, 'Azalea': 9, 'Bamboo': 10, 'Banana': 11, 'Banyan': 12, 'Basil': 13, 'Bay Laurel': 14, 'Bay Leaf': 15, 'Bayberry': 16, 'Begonia': 17, 'Betel Leaf': 18, 'Birch': 19, 'Bird of Paradise': 20, \"Bird's Nest Fern\": 21, 'Black Cherry': 22, 'Black-eyed Susan': 23, 'Bonsai': 24, 'Bougainvillea': 25, 'Boxwood': 26, 'Buckeye': 27, 'Butterfly Bush': 28, 'Cactus': 29, 'Canna Lily': 30, 'Cardamom': 31, 'Carnation': 32, 'Cedar': 33, 'Chamomile': 34, 'Cherry Blossom': 35, 'Chives': 36, 'Chrysanthemum': 37, 'Cinnamon': 38, 'Clematis': 39, 'Coconut': 40, 'Columbine': 41, 'Coneflower': 42, 'Coriander': 43, 'Crepe Myrtle': 44, 'Croton': 45, 'Cypress': 46, 'Daffodil': 47, 'Daisy': 48, 'Dandelion': 49, 'Dogwood': 50, 'Eucalyptus': 51, 'Fennel': 52, 'Fern': 53, 'Fiddle Leaf Fig': 54, 'Fir': 55, 'Forsythia': 56, 'Foxglove': 57, 'Fuchsia': 58, 'Geranium': 59, 'Ginger': 60, 'Ginkgo': 61, 'Grevillea': 62, 'Hackberry': 63, 'Hellebore': 64, 'Henna': 65, 'Hibiscus': 66, 'Hickory': 67, 'Holly': 68, 'Hollyhock': 69, 'Holy Basil': 70, 'Hosta': 71, 'Hoya': 72, 'Hydrangea': 73, 'Iris': 74, 'Ivy': 75, 'Jackfruit': 76, 'Jade Plant': 77, 'Jasmine': 78, 'Jatropha': 79, 'Juniper': 80, 'Lantana': 81, 'Larkspur': 82, 'Lavender': 83, 'Lemon Grass': 84, 'Lemongrass': 85, 'Lilac': 86, 'Lily': 87, 'Lily of the Valley': 88, 'Lobelia': 89, 'Lupine': 90, 'Magnolia': 91, 'Mandevilla': 92, 'Mango': 93, 'Maple': 94, 'Marigold': 95, 'Mimosa': 96, 'Mint': 97, 'Money Tree': 98, 'Moringa': 99, 'Moss': 100, 'Narcissus': 101, 'Neem': 102, 'Nutmeg': 103, 'Oak': 104, 'Orchid': 105, 'Oregano': 106, 'Palm Tree': 107, 'Pansy': 108, 'Peace Lily': 109, 'Pepper': 110, 'Peppermint': 111, 'Petunia': 112, 'Phalaenopsis': 113, 'Pine': 114, 'Pine Tree': 115, 'Poinsettia': 116, 'Poplar': 117, 'Primrose': 118, 'Redbud': 119, 'Redwood': 120, 'Rhododendron': 121, 'Rhubarb': 122, 'Rose': 123, 'Rosewood': 124, 'Saffron': 125, 'Sage': 126, 'Sagebrush': 127, 'Sandalwood': 128, 'Sassafras': 129, 'Snapdragon': 130, 'Spruce': 131, 'Succulent': 132, 'Sunflower': 133, 'Sweetgum': 134, 'Sycamore': 135, 'Tamarind': 136, 'Teak': 137, 'Tulip': 138, 'Tulip Poplar': 139, 'Tulsi': 140, 'Turmeric': 141, 'Wisteria': 142, 'Yarrow': 143, 'Yucca': 144, 'Zinnia': 145}\n"
     ]
    }
   ],
   "source": [
    "le_name_mapping = dict(zip(label_encoder.classes_, label_encoder.transform(label_encoder.classes_)))\n",
    "print(le_name_mapping)"
   ]
  },
  {
   "cell_type": "code",
   "execution_count": 12,
   "id": "7e641208",
   "metadata": {},
   "outputs": [],
   "source": [
    "numpy.save('labelEncoder.npy', le_name_mapping)"
   ]
  },
  {
   "cell_type": "code",
   "execution_count": 13,
   "id": "d342b2af",
   "metadata": {},
   "outputs": [
    {
     "name": "stdout",
     "output_type": "stream",
     "text": [
      "{'African Daisy': 0, 'African Violet': 1, 'Aloe Vera': 2, 'Amaryllis': 3, 'Amla': 4, 'Anthurium': 5, 'Areca Palm': 6, 'Ashwagandha': 7, 'Aster': 8, 'Azalea': 9, 'Bamboo': 10, 'Banana': 11, 'Banyan': 12, 'Basil': 13, 'Bay Laurel': 14, 'Bay Leaf': 15, 'Bayberry': 16, 'Begonia': 17, 'Betel Leaf': 18, 'Birch': 19, 'Bird of Paradise': 20, \"Bird's Nest Fern\": 21, 'Black Cherry': 22, 'Black-eyed Susan': 23, 'Bonsai': 24, 'Bougainvillea': 25, 'Boxwood': 26, 'Buckeye': 27, 'Butterfly Bush': 28, 'Cactus': 29, 'Canna Lily': 30, 'Cardamom': 31, 'Carnation': 32, 'Cedar': 33, 'Chamomile': 34, 'Cherry Blossom': 35, 'Chives': 36, 'Chrysanthemum': 37, 'Cinnamon': 38, 'Clematis': 39, 'Coconut': 40, 'Columbine': 41, 'Coneflower': 42, 'Coriander': 43, 'Crepe Myrtle': 44, 'Croton': 45, 'Cypress': 46, 'Daffodil': 47, 'Daisy': 48, 'Dandelion': 49, 'Dogwood': 50, 'Eucalyptus': 51, 'Fennel': 52, 'Fern': 53, 'Fiddle Leaf Fig': 54, 'Fir': 55, 'Forsythia': 56, 'Foxglove': 57, 'Fuchsia': 58, 'Geranium': 59, 'Ginger': 60, 'Ginkgo': 61, 'Grevillea': 62, 'Hackberry': 63, 'Hellebore': 64, 'Henna': 65, 'Hibiscus': 66, 'Hickory': 67, 'Holly': 68, 'Hollyhock': 69, 'Holy Basil': 70, 'Hosta': 71, 'Hoya': 72, 'Hydrangea': 73, 'Iris': 74, 'Ivy': 75, 'Jackfruit': 76, 'Jade Plant': 77, 'Jasmine': 78, 'Jatropha': 79, 'Juniper': 80, 'Lantana': 81, 'Larkspur': 82, 'Lavender': 83, 'Lemon Grass': 84, 'Lemongrass': 85, 'Lilac': 86, 'Lily': 87, 'Lily of the Valley': 88, 'Lobelia': 89, 'Lupine': 90, 'Magnolia': 91, 'Mandevilla': 92, 'Mango': 93, 'Maple': 94, 'Marigold': 95, 'Mimosa': 96, 'Mint': 97, 'Money Tree': 98, 'Moringa': 99, 'Moss': 100, 'Narcissus': 101, 'Neem': 102, 'Nutmeg': 103, 'Oak': 104, 'Orchid': 105, 'Oregano': 106, 'Palm Tree': 107, 'Pansy': 108, 'Peace Lily': 109, 'Pepper': 110, 'Peppermint': 111, 'Petunia': 112, 'Phalaenopsis': 113, 'Pine': 114, 'Pine Tree': 115, 'Poinsettia': 116, 'Poplar': 117, 'Primrose': 118, 'Redbud': 119, 'Redwood': 120, 'Rhododendron': 121, 'Rhubarb': 122, 'Rose': 123, 'Rosewood': 124, 'Saffron': 125, 'Sage': 126, 'Sagebrush': 127, 'Sandalwood': 128, 'Sassafras': 129, 'Snapdragon': 130, 'Spruce': 131, 'Succulent': 132, 'Sunflower': 133, 'Sweetgum': 134, 'Sycamore': 135, 'Tamarind': 136, 'Teak': 137, 'Tulip': 138, 'Tulip Poplar': 139, 'Tulsi': 140, 'Turmeric': 141, 'Wisteria': 142, 'Yarrow': 143, 'Yucca': 144, 'Zinnia': 145}\n"
     ]
    }
   ],
   "source": [
    "dict_val = numpy.load('labelEncoder.npy', allow_pickle='TRUE')\n",
    "print(dict_val.item())"
   ]
  },
  {
   "cell_type": "code",
   "execution_count": 14,
   "id": "57de6c07",
   "metadata": {},
   "outputs": [],
   "source": [
    "import pickle\n",
    "with open('label.pickle', 'wb') as handle:\n",
    "    pickle.dump(le_name_mapping, handle, protocol=pickle.HIGHEST_PROTOCOL)\n",
    "\n",
    "with open('label.pickle', 'rb') as handle:\n",
    "    b = pickle.load(handle)"
   ]
  },
  {
   "cell_type": "code",
   "execution_count": 15,
   "id": "2038b338",
   "metadata": {},
   "outputs": [
    {
     "data": {
      "text/html": [
       "<div>\n",
       "<style scoped>\n",
       "    .dataframe tbody tr th:only-of-type {\n",
       "        vertical-align: middle;\n",
       "    }\n",
       "\n",
       "    .dataframe tbody tr th {\n",
       "        vertical-align: top;\n",
       "    }\n",
       "\n",
       "    .dataframe thead th {\n",
       "        text-align: right;\n",
       "    }\n",
       "</style>\n",
       "<table border=\"1\" class=\"dataframe\">\n",
       "  <thead>\n",
       "    <tr style=\"text-align: right;\">\n",
       "      <th></th>\n",
       "      <th>Plant Species</th>\n",
       "      <th>Oxygen Emission</th>\n",
       "      <th>Light Intensity</th>\n",
       "      <th>CO2 Concentration</th>\n",
       "      <th>Temperature</th>\n",
       "    </tr>\n",
       "  </thead>\n",
       "  <tbody>\n",
       "    <tr>\n",
       "      <th>0</th>\n",
       "      <td>138</td>\n",
       "      <td>62</td>\n",
       "      <td>27</td>\n",
       "      <td>196</td>\n",
       "      <td>24.0</td>\n",
       "    </tr>\n",
       "    <tr>\n",
       "      <th>1</th>\n",
       "      <td>29</td>\n",
       "      <td>18</td>\n",
       "      <td>10</td>\n",
       "      <td>132</td>\n",
       "      <td>31.0</td>\n",
       "    </tr>\n",
       "    <tr>\n",
       "      <th>2</th>\n",
       "      <td>83</td>\n",
       "      <td>50</td>\n",
       "      <td>30</td>\n",
       "      <td>171</td>\n",
       "      <td>19.0</td>\n",
       "    </tr>\n",
       "    <tr>\n",
       "      <th>3</th>\n",
       "      <td>10</td>\n",
       "      <td>72</td>\n",
       "      <td>45</td>\n",
       "      <td>198</td>\n",
       "      <td>29.0</td>\n",
       "    </tr>\n",
       "    <tr>\n",
       "      <th>4</th>\n",
       "      <td>53</td>\n",
       "      <td>36</td>\n",
       "      <td>23</td>\n",
       "      <td>137</td>\n",
       "      <td>22.0</td>\n",
       "    </tr>\n",
       "  </tbody>\n",
       "</table>\n",
       "</div>"
      ],
      "text/plain": [
       "   Plant Species  Oxygen Emission  Light Intensity  CO2 Concentration  \\\n",
       "0            138               62               27                196   \n",
       "1             29               18               10                132   \n",
       "2             83               50               30                171   \n",
       "3             10               72               45                198   \n",
       "4             53               36               23                137   \n",
       "\n",
       "   Temperature  \n",
       "0         24.0  \n",
       "1         31.0  \n",
       "2         19.0  \n",
       "3         29.0  \n",
       "4         22.0  "
      ]
     },
     "execution_count": 15,
     "metadata": {},
     "output_type": "execute_result"
    }
   ],
   "source": [
    "df.head()"
   ]
  },
  {
   "cell_type": "code",
   "execution_count": 16,
   "id": "b2b347f2",
   "metadata": {},
   "outputs": [
    {
     "data": {
      "text/html": [
       "<div>\n",
       "<style scoped>\n",
       "    .dataframe tbody tr th:only-of-type {\n",
       "        vertical-align: middle;\n",
       "    }\n",
       "\n",
       "    .dataframe tbody tr th {\n",
       "        vertical-align: top;\n",
       "    }\n",
       "\n",
       "    .dataframe thead th {\n",
       "        text-align: right;\n",
       "    }\n",
       "</style>\n",
       "<table border=\"1\" class=\"dataframe\">\n",
       "  <thead>\n",
       "    <tr style=\"text-align: right;\">\n",
       "      <th></th>\n",
       "      <th>Plant Species</th>\n",
       "      <th>Oxygen Emission</th>\n",
       "      <th>Light Intensity</th>\n",
       "      <th>CO2 Concentration</th>\n",
       "      <th>Temperature</th>\n",
       "    </tr>\n",
       "  </thead>\n",
       "  <tbody>\n",
       "    <tr>\n",
       "      <th>count</th>\n",
       "      <td>162.000000</td>\n",
       "      <td>162.000000</td>\n",
       "      <td>162.000000</td>\n",
       "      <td>162.000000</td>\n",
       "      <td>162.000000</td>\n",
       "    </tr>\n",
       "    <tr>\n",
       "      <th>mean</th>\n",
       "      <td>71.061728</td>\n",
       "      <td>54.549383</td>\n",
       "      <td>32.672840</td>\n",
       "      <td>162.518519</td>\n",
       "      <td>23.314815</td>\n",
       "    </tr>\n",
       "    <tr>\n",
       "      <th>std</th>\n",
       "      <td>41.977618</td>\n",
       "      <td>13.948910</td>\n",
       "      <td>9.903779</td>\n",
       "      <td>22.038144</td>\n",
       "      <td>3.821275</td>\n",
       "    </tr>\n",
       "    <tr>\n",
       "      <th>min</th>\n",
       "      <td>0.000000</td>\n",
       "      <td>15.000000</td>\n",
       "      <td>8.000000</td>\n",
       "      <td>113.000000</td>\n",
       "      <td>17.000000</td>\n",
       "    </tr>\n",
       "    <tr>\n",
       "      <th>25%</th>\n",
       "      <td>35.250000</td>\n",
       "      <td>46.000000</td>\n",
       "      <td>26.000000</td>\n",
       "      <td>146.000000</td>\n",
       "      <td>20.000000</td>\n",
       "    </tr>\n",
       "    <tr>\n",
       "      <th>50%</th>\n",
       "      <td>71.500000</td>\n",
       "      <td>55.000000</td>\n",
       "      <td>32.000000</td>\n",
       "      <td>161.000000</td>\n",
       "      <td>23.000000</td>\n",
       "    </tr>\n",
       "    <tr>\n",
       "      <th>75%</th>\n",
       "      <td>105.750000</td>\n",
       "      <td>65.000000</td>\n",
       "      <td>40.000000</td>\n",
       "      <td>180.000000</td>\n",
       "      <td>26.000000</td>\n",
       "    </tr>\n",
       "    <tr>\n",
       "      <th>max</th>\n",
       "      <td>145.000000</td>\n",
       "      <td>81.000000</td>\n",
       "      <td>53.000000</td>\n",
       "      <td>202.000000</td>\n",
       "      <td>33.000000</td>\n",
       "    </tr>\n",
       "  </tbody>\n",
       "</table>\n",
       "</div>"
      ],
      "text/plain": [
       "       Plant Species  Oxygen Emission  Light Intensity  CO2 Concentration  \\\n",
       "count     162.000000       162.000000       162.000000         162.000000   \n",
       "mean       71.061728        54.549383        32.672840         162.518519   \n",
       "std        41.977618        13.948910         9.903779          22.038144   \n",
       "min         0.000000        15.000000         8.000000         113.000000   \n",
       "25%        35.250000        46.000000        26.000000         146.000000   \n",
       "50%        71.500000        55.000000        32.000000         161.000000   \n",
       "75%       105.750000        65.000000        40.000000         180.000000   \n",
       "max       145.000000        81.000000        53.000000         202.000000   \n",
       "\n",
       "       Temperature  \n",
       "count   162.000000  \n",
       "mean     23.314815  \n",
       "std       3.821275  \n",
       "min      17.000000  \n",
       "25%      20.000000  \n",
       "50%      23.000000  \n",
       "75%      26.000000  \n",
       "max      33.000000  "
      ]
     },
     "execution_count": 16,
     "metadata": {},
     "output_type": "execute_result"
    }
   ],
   "source": [
    "df.describe()"
   ]
  },
  {
   "cell_type": "code",
   "execution_count": 17,
   "id": "dd72feb4",
   "metadata": {},
   "outputs": [],
   "source": [
    "from sklearn.model_selection import train_test_split\n",
    "\n",
    "X=df.drop('Oxygen Emission',axis=1)\n",
    "y=df['Oxygen Emission']\n",
    "X_train, X_test,y_train,y_test=train_test_split(X,y, test_size=0.2)"
   ]
  },
  {
   "cell_type": "code",
   "execution_count": 18,
   "id": "63562fc6",
   "metadata": {},
   "outputs": [
    {
     "data": {
      "text/html": [
       "<style>#sk-container-id-1 {color: black;background-color: white;}#sk-container-id-1 pre{padding: 0;}#sk-container-id-1 div.sk-toggleable {background-color: white;}#sk-container-id-1 label.sk-toggleable__label {cursor: pointer;display: block;width: 100%;margin-bottom: 0;padding: 0.3em;box-sizing: border-box;text-align: center;}#sk-container-id-1 label.sk-toggleable__label-arrow:before {content: \"▸\";float: left;margin-right: 0.25em;color: #696969;}#sk-container-id-1 label.sk-toggleable__label-arrow:hover:before {color: black;}#sk-container-id-1 div.sk-estimator:hover label.sk-toggleable__label-arrow:before {color: black;}#sk-container-id-1 div.sk-toggleable__content {max-height: 0;max-width: 0;overflow: hidden;text-align: left;background-color: #f0f8ff;}#sk-container-id-1 div.sk-toggleable__content pre {margin: 0.2em;color: black;border-radius: 0.25em;background-color: #f0f8ff;}#sk-container-id-1 input.sk-toggleable__control:checked~div.sk-toggleable__content {max-height: 200px;max-width: 100%;overflow: auto;}#sk-container-id-1 input.sk-toggleable__control:checked~label.sk-toggleable__label-arrow:before {content: \"▾\";}#sk-container-id-1 div.sk-estimator input.sk-toggleable__control:checked~label.sk-toggleable__label {background-color: #d4ebff;}#sk-container-id-1 div.sk-label input.sk-toggleable__control:checked~label.sk-toggleable__label {background-color: #d4ebff;}#sk-container-id-1 input.sk-hidden--visually {border: 0;clip: rect(1px 1px 1px 1px);clip: rect(1px, 1px, 1px, 1px);height: 1px;margin: -1px;overflow: hidden;padding: 0;position: absolute;width: 1px;}#sk-container-id-1 div.sk-estimator {font-family: monospace;background-color: #f0f8ff;border: 1px dotted black;border-radius: 0.25em;box-sizing: border-box;margin-bottom: 0.5em;}#sk-container-id-1 div.sk-estimator:hover {background-color: #d4ebff;}#sk-container-id-1 div.sk-parallel-item::after {content: \"\";width: 100%;border-bottom: 1px solid gray;flex-grow: 1;}#sk-container-id-1 div.sk-label:hover label.sk-toggleable__label {background-color: #d4ebff;}#sk-container-id-1 div.sk-serial::before {content: \"\";position: absolute;border-left: 1px solid gray;box-sizing: border-box;top: 0;bottom: 0;left: 50%;z-index: 0;}#sk-container-id-1 div.sk-serial {display: flex;flex-direction: column;align-items: center;background-color: white;padding-right: 0.2em;padding-left: 0.2em;position: relative;}#sk-container-id-1 div.sk-item {position: relative;z-index: 1;}#sk-container-id-1 div.sk-parallel {display: flex;align-items: stretch;justify-content: center;background-color: white;position: relative;}#sk-container-id-1 div.sk-item::before, #sk-container-id-1 div.sk-parallel-item::before {content: \"\";position: absolute;border-left: 1px solid gray;box-sizing: border-box;top: 0;bottom: 0;left: 50%;z-index: -1;}#sk-container-id-1 div.sk-parallel-item {display: flex;flex-direction: column;z-index: 1;position: relative;background-color: white;}#sk-container-id-1 div.sk-parallel-item:first-child::after {align-self: flex-end;width: 50%;}#sk-container-id-1 div.sk-parallel-item:last-child::after {align-self: flex-start;width: 50%;}#sk-container-id-1 div.sk-parallel-item:only-child::after {width: 0;}#sk-container-id-1 div.sk-dashed-wrapped {border: 1px dashed gray;margin: 0 0.4em 0.5em 0.4em;box-sizing: border-box;padding-bottom: 0.4em;background-color: white;}#sk-container-id-1 div.sk-label label {font-family: monospace;font-weight: bold;display: inline-block;line-height: 1.2em;}#sk-container-id-1 div.sk-label-container {text-align: center;}#sk-container-id-1 div.sk-container {/* jupyter's `normalize.less` sets `[hidden] { display: none; }` but bootstrap.min.css set `[hidden] { display: none !important; }` so we also need the `!important` here to be able to override the default hidden behavior on the sphinx rendered scikit-learn.org. See: https://github.com/scikit-learn/scikit-learn/issues/21755 */display: inline-block !important;position: relative;}#sk-container-id-1 div.sk-text-repr-fallback {display: none;}</style><div id=\"sk-container-id-1\" class=\"sk-top-container\"><div class=\"sk-text-repr-fallback\"><pre>RandomForestRegressor()</pre><b>In a Jupyter environment, please rerun this cell to show the HTML representation or trust the notebook. <br />On GitHub, the HTML representation is unable to render, please try loading this page with nbviewer.org.</b></div><div class=\"sk-container\" hidden><div class=\"sk-item\"><div class=\"sk-estimator sk-toggleable\"><input class=\"sk-toggleable__control sk-hidden--visually\" id=\"sk-estimator-id-1\" type=\"checkbox\" checked><label for=\"sk-estimator-id-1\" class=\"sk-toggleable__label sk-toggleable__label-arrow\">RandomForestRegressor</label><div class=\"sk-toggleable__content\"><pre>RandomForestRegressor()</pre></div></div></div></div></div>"
      ],
      "text/plain": [
       "RandomForestRegressor()"
      ]
     },
     "execution_count": 18,
     "metadata": {},
     "output_type": "execute_result"
    }
   ],
   "source": [
    "from sklearn.ensemble import RandomForestRegressor\n",
    "rf=RandomForestRegressor()\n",
    "rf.fit(X_train,y_train)"
   ]
  },
  {
   "cell_type": "code",
   "execution_count": 19,
   "id": "cf245d50",
   "metadata": {},
   "outputs": [
    {
     "data": {
      "text/plain": [
       "0.9801869529269099"
      ]
     },
     "execution_count": 19,
     "metadata": {},
     "output_type": "execute_result"
    }
   ],
   "source": [
    "rf.score(X_test,y_test)"
   ]
  },
  {
   "cell_type": "code",
   "execution_count": 20,
   "id": "6ad33d53",
   "metadata": {},
   "outputs": [
    {
     "name": "stderr",
     "output_type": "stream",
     "text": [
      "/Users/adwaitlaxmikantbhosale/miniforge3/envs/tf2/lib/python3.9/site-packages/sklearn/base.py:450: UserWarning: X does not have valid feature names, but RandomForestRegressor was fitted with feature names\n",
      "  warnings.warn(\n"
     ]
    },
    {
     "data": {
      "text/plain": [
       "array([59.84])"
      ]
     },
     "execution_count": 20,
     "metadata": {},
     "output_type": "execute_result"
    }
   ],
   "source": [
    "rf.predict([[138,27,196,24.0]])"
   ]
  },
  {
   "cell_type": "code",
   "execution_count": 21,
   "id": "f611abdf",
   "metadata": {},
   "outputs": [
    {
     "name": "stderr",
     "output_type": "stream",
     "text": [
      "/Users/adwaitlaxmikantbhosale/miniforge3/envs/tf2/lib/python3.9/site-packages/sklearn/base.py:450: UserWarning: X does not have valid feature names, but RandomForestRegressor was fitted with feature names\n",
      "  warnings.warn(\n"
     ]
    },
    {
     "data": {
      "text/plain": [
       "array([57.62])"
      ]
     },
     "execution_count": 21,
     "metadata": {},
     "output_type": "execute_result"
    }
   ],
   "source": [
    "val=label_encoder.transform(['Cactus'])\n",
    "ans=rf.predict([[val,27,196,24.0]])\n",
    "ans"
   ]
  },
  {
   "cell_type": "code",
   "execution_count": 22,
   "id": "6da0066f",
   "metadata": {},
   "outputs": [],
   "source": [
    "# import numpy\n",
    "# encoder = LabelEncoder()\n",
    "# df['Plant Species']=encoder.fit(df['Plant Species'])\n",
    "# numpy.save('classes.npy', encoder.classes_)"
   ]
  },
  {
   "cell_type": "code",
   "execution_count": 23,
   "id": "7c5c1334",
   "metadata": {},
   "outputs": [],
   "source": [
    "# encoder = LabelEncoder()\n",
    "# vals = numpy.load('classes.npy')\n",
    "# vals"
   ]
  },
  {
   "cell_type": "code",
   "execution_count": 184,
   "id": "45cd8163",
   "metadata": {},
   "outputs": [],
   "source": [
    "pickle.dump(rf, open('model.pkl', 'wb'))"
   ]
  },
  {
   "cell_type": "code",
   "execution_count": 185,
   "id": "69adf834",
   "metadata": {},
   "outputs": [],
   "source": [
    "def predFunc(plant_species,light_intensity, carbon_emission, temperature):\n",
    "    with open('label.pickle', 'rb') as handle:\n",
    "        b = pickle.load(handle)\n",
    "    model=pickle.load(open('model.pkl', 'rb'))\n",
    "    val=b.get(plant_species)\n",
    "    ans=model.predict([[val,light_intensity, carbon_emission, temperature]])\n",
    "    return ans[0]"
   ]
  },
  {
   "cell_type": "code",
   "execution_count": 186,
   "id": "22db3edd",
   "metadata": {},
   "outputs": [
    {
     "name": "stderr",
     "output_type": "stream",
     "text": [
      "/Users/adwaitlaxmikantbhosale/miniforge3/envs/tf2/lib/python3.9/site-packages/sklearn/base.py:450: UserWarning: X does not have valid feature names, but RandomForestRegressor was fitted with feature names\n",
      "  warnings.warn(\n"
     ]
    },
    {
     "data": {
      "text/plain": [
       "56.21"
      ]
     },
     "execution_count": 186,
     "metadata": {},
     "output_type": "execute_result"
    }
   ],
   "source": [
    "predFunc('Cactus', 27, 196, 24.0)"
   ]
  },
  {
   "cell_type": "code",
   "execution_count": 25,
   "id": "0684198f",
   "metadata": {},
   "outputs": [],
   "source": [
    "y_pred=rf.predict(X_test)"
   ]
  },
  {
   "cell_type": "code",
   "execution_count": 26,
   "id": "9c2975ae",
   "metadata": {},
   "outputs": [
    {
     "name": "stdout",
     "output_type": "stream",
     "text": [
      "MAE: 1.4475757575757568\n",
      "MSE: 3.6307909090909094\n",
      "RMSE: 1.9054634368286654\n"
     ]
    }
   ],
   "source": [
    "from sklearn.metrics import mean_absolute_error, mean_squared_error\n",
    "import math\n",
    "\n",
    "mse=mean_squared_error(y_test, y_pred)\n",
    "rmse=math.sqrt(mse)\n",
    "print(f\"MAE: {mean_absolute_error(y_test, y_pred)}\")\n",
    "print(f\"MSE: {mean_squared_error(y_test, y_pred)}\")\n",
    "print(f\"RMSE: {rmse}\")"
   ]
  },
  {
   "cell_type": "code",
   "execution_count": 47,
   "id": "15db98e9",
   "metadata": {},
   "outputs": [
    {
     "data": {
      "text/plain": [
       "<BarContainer object of 3 artists>"
      ]
     },
     "execution_count": 47,
     "metadata": {},
     "output_type": "execute_result"
    },
    {
     "data": {
      "image/png": "[encoded data removed]",
      "text/plain": [
       "<Figure size 1000x500 with 1 Axes>"
      ]
     },
     "metadata": {},
     "output_type": "display_data"
    }
   ],
   "source": [
    "import matplotlib.pyplot as plt\n",
    "mae=mean_absolute_error(y_test, y_pred)\n",
    "mse=mean_squared_error(y_test, y_pred)\n",
    "rmse=math.sqrt(mse)\n",
    "\n",
    "errors={\"MAE\": mae,\n",
    "        \"MSE\":mse,\n",
    "       \"RMSE\":rmse}\n",
    "err=list(errors.keys())\n",
    "vals=list(errors.values())\n",
    "\n",
    "fig=plt.figure(figsize=(10,5))\n",
    "plt.bar(err,vals,color='b',width=0.2)"
   ]
  },
  {
   "cell_type": "code",
   "execution_count": null,
   "id": "8997add3",
   "metadata": {},
   "outputs": [],
   "source": []
  }
 ],
 "metadata": {
  "kernelspec": {
   "display_name": "Python 3 (ipykernel)",
   "language": "python",
   "name": "python3"
  },
  "language_info": {
   "codemirror_mode": {
    "name": "ipython",
    "version": 3
   },
   "file_extension": ".py",
   "mimetype": "text/x-python",
   "name": "python",
   "nbconvert_exporter": "python",
   "pygments_lexer": "ipython3",
   "version": "3.9.2"
  }
 },
 "nbformat": 4,
 "nbformat_minor": 5
}
